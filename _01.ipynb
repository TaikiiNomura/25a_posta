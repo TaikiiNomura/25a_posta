{
  "nbformat": 4,
  "nbformat_minor": 0,
  "metadata": {
    "colab": {
      "provenance": [],
      "gpuType": "T4"
    },
    "kernelspec": {
      "name": "python3",
      "display_name": "Python 3"
    },
    "language_info": {
      "name": "python"
    },
    "accelerator": "GPU"
  },
  "cells": [
    {
      "cell_type": "markdown",
      "source": [
        "# ライブラリ\n",
        "\n",
        "- PyTorchはニューラルネットワーク用のライブラリ\n",
        "- torchvisionはデータを簡単に扱える（今回はMNIST）"
      ],
      "metadata": {
        "id": "PXx0qL8rmo0k"
      }
    },
    {
      "cell_type": "code",
      "execution_count": 1,
      "metadata": {
        "id": "7hceWDnUmi-H"
      },
      "outputs": [],
      "source": [
        "import torch\n",
        "import torch.nn as nn\n",
        "import torch.optim as optim\n",
        "from torchvision import datasets, transforms\n",
        "from torch.utils.data import DataLoader\n",
        "\n",
        "import matplotlib.pyplot as plt"
      ]
    },
    {
      "cell_type": "markdown",
      "source": [
        "# データセット\n",
        "\n",
        "- MNISTとは：手書き数字（０～９）画像のデータセット（２８ｘ２８ピクセル）"
      ],
      "metadata": {
        "id": "W2yhwq_3mxCR"
      }
    },
    {
      "cell_type": "code",
      "source": [
        "transform = transforms.ToTensor()\n",
        "\n",
        "train_dataset = datasets.MNIST(root='./data', train=True, transform=transform, download=True)\n",
        "test_dataset = datasets.MNIST(root='./data', train=False, transform=transform)\n",
        "\n",
        "train_loader = DataLoader(train_dataset, batch_size=64, shuffle=True)\n",
        "test_loader = DataLoader(test_dataset, batch_size=64, shuffle=False)"
      ],
      "metadata": {
        "id": "OkmWL22YmzYl",
        "colab": {
          "base_uri": "https://localhost:8080/"
        },
        "outputId": "15cfab0d-f2ba-4cfa-92b1-e140f5ad5e83"
      },
      "execution_count": 2,
      "outputs": [
        {
          "output_type": "stream",
          "name": "stderr",
          "text": [
            "100%|██████████| 9.91M/9.91M [00:01<00:00, 5.10MB/s]\n",
            "100%|██████████| 28.9k/28.9k [00:00<00:00, 135kB/s]\n",
            "100%|██████████| 1.65M/1.65M [00:01<00:00, 1.27MB/s]\n",
            "100%|██████████| 4.54k/4.54k [00:00<00:00, 7.96MB/s]\n"
          ]
        }
      ]
    },
    {
      "cell_type": "markdown",
      "source": [
        "# ネットワーク定義\n",
        "- ２層の全結合層\n",
        "- 活性化関数はReLU\n",
        "- 出力は１０クラスに対応"
      ],
      "metadata": {
        "id": "B4qUaXvLm2lN"
      }
    },
    {
      "cell_type": "code",
      "source": [
        "class SimpleNN(nn.Module):\n",
        "    def __init__(self):\n",
        "        super(SimpleNN, self).__init__()\n",
        "        self.linear1 = nn.Linear(28*28, 128)\n",
        "        self.relu = nn.ReLU()\n",
        "        self.linear2 = nn.Linear(128, 10)\n",
        "\n",
        "    def forward(self, x):\n",
        "        x = x.view(-1, 28*28)  # flatten\n",
        "        x = self.relu(self.linear1(x))\n",
        "        x = self.linear2(x)\n",
        "        return x"
      ],
      "metadata": {
        "id": "puxjjblFm3DH"
      },
      "execution_count": 3,
      "outputs": []
    },
    {
      "cell_type": "code",
      "source": [
        "# 学習前後の予測を表示する関数\n",
        "def show_preds(model, loader, title=\"\"):\n",
        "    model.eval()\n",
        "    images, labels = next(iter(loader))\n",
        "    with torch.no_grad():\n",
        "        preds = model(images).argmax(dim=1)\n",
        "\n",
        "    plt.figure(figsize=(6, 6))\n",
        "    for i in range(9):\n",
        "        plt.subplot(3, 3, i+1)\n",
        "        plt.imshow(images[i][0], cmap='gray')\n",
        "        plt.title(f\"P:{preds[i].item()} / T:{labels[i].item()}\")\n",
        "        plt.axis('off')\n",
        "    plt.suptitle(title)\n",
        "    plt.tight_layout()\n",
        "    plt.show()\n",
        "    print()\n",
        "    print()\n",
        "    print()"
      ],
      "metadata": {
        "id": "_sCa9CW0oJfq"
      },
      "execution_count": 4,
      "outputs": []
    },
    {
      "cell_type": "code",
      "source": [
        "# 学習前後の予測を表示する関数\n",
        "def show_preds(model, loader, title=\"\"):\n",
        "    model.eval()\n",
        "    images, labels = next(iter(loader))\n",
        "    with torch.no_grad():\n",
        "        preds = model(images).argmax(dim=1)\n",
        "\n",
        "    plt.figure(figsize=(6, 6))\n",
        "    for i in range(9):\n",
        "        plt.subplot(3, 3, i+1)\n",
        "        plt.imshow(images[i][0], cmap='gray')\n",
        "        plt.title(f\"P:{preds[i].item()} / T:{labels[i].item()}\")\n",
        "        plt.axis('off')\n",
        "    plt.suptitle(title)\n",
        "    plt.tight_layout()\n",
        "    plt.show()\n",
        "    print()\n",
        "    print()\n",
        "    print()"
      ],
      "metadata": {
        "id": "dFXI4JRxoZpN"
      },
      "execution_count": 5,
      "outputs": []
    },
    {
      "cell_type": "markdown",
      "source": [
        "# 損失関数＆最適化アルゴリズム設定"
      ],
      "metadata": {
        "id": "tjEFamFRm6-G"
      }
    },
    {
      "cell_type": "code",
      "source": [
        "model = SimpleNN()\n",
        "criterion = nn.CrossEntropyLoss()\n",
        "optimizer = optim.SGD(model.parameters(), lr=0.1)"
      ],
      "metadata": {
        "id": "uhPdwsYPm7qH"
      },
      "execution_count": 6,
      "outputs": []
    },
    {
      "cell_type": "code",
      "source": [
        "# 学習前を表示\n",
        "show_preds(model, test_loader, \"Before Training\")"
      ],
      "metadata": {
        "colab": {
          "base_uri": "https://localhost:8080/",
          "height": 665
        },
        "id": "jz9k0KQ9oeg6",
        "outputId": "342396b4-299c-4ac0-b929-0fff6e162917"
      },
      "execution_count": 7,
      "outputs": [
        {
          "output_type": "display_data",
          "data": {
            "text/plain": [
              "<Figure size 600x600 with 9 Axes>"
            ],
            "image/png": "[encoded data removed]"
          },
          "metadata": {}
        },
        {
          "output_type": "stream",
          "name": "stdout",
          "text": [
            "\n",
            "\n",
            "\n"
          ]
        }
      ]
    },
    {
      "cell_type": "markdown",
      "source": [
        "# 学習ループ（トレーニング）\n",
        "- ここで「パラメータの最適化＝損失が小さくなるように重みを調整」する"
      ],
      "metadata": {
        "id": "VDUMb0Okm_lo"
      }
    },
    {
      "cell_type": "code",
      "source": [
        "for epoch in range(5):\n",
        "    model.train()\n",
        "    total_loss = 0\n",
        "    for images, labels in train_loader:\n",
        "        optimizer.zero_grad()\n",
        "        outputs = model(images)\n",
        "        loss = criterion(outputs, labels)\n",
        "        loss.backward()\n",
        "        optimizer.step()\n",
        "        total_loss += loss.item()\n",
        "\n",
        "    print(f\"Epoch {epoch+1}, Loss: {total_loss:.4f}\")"
      ],
      "metadata": {
        "id": "kqSAy-2GnBbH",
        "colab": {
          "base_uri": "https://localhost:8080/"
        },
        "outputId": "534b78c3-2a48-49a9-b854-06cba90b483d"
      },
      "execution_count": 8,
      "outputs": [
        {
          "output_type": "stream",
          "name": "stdout",
          "text": [
            "Epoch 1, Loss: 414.6815\n",
            "Epoch 2, Loss: 212.5950\n",
            "Epoch 3, Loss: 159.7658\n",
            "Epoch 4, Loss: 129.0347\n",
            "Epoch 5, Loss: 108.8652\n"
          ]
        }
      ]
    },
    {
      "cell_type": "markdown",
      "source": [
        "# 精度の確認\n",
        "- Test Accuracy：正しく分類できた割合"
      ],
      "metadata": {
        "id": "r9vNG2hunDJl"
      }
    },
    {
      "cell_type": "code",
      "source": [
        "model.eval()\n",
        "\n",
        "correct = 0\n",
        "total = 0\n",
        "\n",
        "with torch.no_grad():\n",
        "    for images, labels in test_loader:\n",
        "        outputs = model(images)\n",
        "        _, predicted = torch.max(outputs, 1)\n",
        "        total += labels.size(0)\n",
        "        correct += (predicted == labels).sum().item()\n",
        "\n",
        "print(f'Test Accuracy: {100 * correct / total:.2f}%')"
      ],
      "metadata": {
        "id": "Y3ZzCdwHnFFt",
        "colab": {
          "base_uri": "https://localhost:8080/"
        },
        "outputId": "e100aa7f-d1c3-49a7-b79c-7f134faf06fa"
      },
      "execution_count": 9,
      "outputs": [
        {
          "output_type": "stream",
          "name": "stdout",
          "text": [
            "Test Accuracy: 96.46%\n"
          ]
        }
      ]
    },
    {
      "cell_type": "markdown",
      "source": [
        "# 可視化（誤分類例）"
      ],
      "metadata": {
        "id": "By9pL5-0nH8F"
      }
    },
    {
      "cell_type": "code",
      "source": [
        "# トレーニング\n",
        "for epoch in range(5):\n",
        "    for images, labels in train_loader:\n",
        "        optimizer.zero_grad()\n",
        "        loss = criterion(model(images), labels)\n",
        "        loss.backward()\n",
        "        optimizer.step()\n",
        "\n",
        "# 学習後を表示\n",
        "show_preds(model, test_loader, \"After Training\")\n"
      ],
      "metadata": {
        "id": "Mq1f8eHZnJKo",
        "colab": {
          "base_uri": "https://localhost:8080/",
          "height": 665
        },
        "outputId": "50709d80-725c-4599-b5de-e7b0e095d9ce"
      },
      "execution_count": 10,
      "outputs": [
        {
          "output_type": "display_data",
          "data": {
            "text/plain": [
              "<Figure size 600x600 with 9 Axes>"
            ],
            "image/png": "[encoded data removed]"
          },
          "metadata": {}
        },
        {
          "output_type": "stream",
          "name": "stdout",
          "text": [
            "\n",
            "\n",
            "\n"
          ]
        }
      ]
    }
  ]
}