{
  "nbformat": 4,
  "nbformat_minor": 0,
  "metadata": {
    "colab": {
      "provenance": [],
      "toc_visible": true
    },
    "kernelspec": {
      "name": "python3",
      "display_name": "Python 3"
    },
    "language_info": {
      "name": "python"
    }
  },
  "cells": [
    {
      "cell_type": "markdown",
      "source": [
        "### このコードではMNISTデータセットを使って，手書き数字を認識するモデルを作ります"
      ],
      "metadata": {
        "id": "aN3lnyGWaZ_F"
      }
    },
    {
      "cell_type": "markdown",
      "source": [
        "# 今週の内容\n",
        "- モデル\n",
        "- 損失関数，最適化手法\n",
        "- 学習，テスト用関数\n",
        "- 学習と評価\n",
        "- *結果をグラフで確認*"
      ],
      "metadata": {
        "id": "E5Eh1NFwYj8c"
      }
    },
    {
      "cell_type": "markdown",
      "source": [
        "# ライブラリ"
      ],
      "metadata": {
        "id": "REYLFuYIaRJk"
      }
    },
    {
      "cell_type": "code",
      "execution_count": 1,
      "metadata": {
        "id": "kcM1g7Y2SHrO"
      },
      "outputs": [],
      "source": [
        "import torch\n",
        "import torch.nn as nn\n",
        "import torch.optim as optim\n",
        "from torch.utils.data import DataLoader\n",
        "from torchvision import datasets, transforms\n",
        "\n",
        "import matplotlib.pyplot as plt\n",
        "\n",
        "from tqdm import tqdm"
      ]
    },
    {
      "cell_type": "markdown",
      "source": [
        "# デバイス指定"
      ],
      "metadata": {
        "id": "icEEL-86aTxr"
      }
    },
    {
      "cell_type": "code",
      "source": [
        "if torch.cuda.is_available():\n",
        "    device = torch.device('cuda')\n",
        "else:\n",
        "    device = torch.device('cpu')\n",
        "\n",
        "# 確認\n",
        "print(device)"
      ],
      "metadata": {
        "colab": {
          "base_uri": "https://localhost:8080/"
        },
        "id": "llSr3H-8aY0P",
        "outputId": "b5864f84-2b4e-47a3-8f01-334cfb3c1792"
      },
      "execution_count": 2,
      "outputs": [
        {
          "output_type": "stream",
          "name": "stdout",
          "text": [
            "cpu\n"
          ]
        }
      ]
    },
    {
      "cell_type": "markdown",
      "source": [
        "# ハイパーパラメータ"
      ],
      "metadata": {
        "id": "l2brAKFRaics"
      }
    },
    {
      "cell_type": "code",
      "source": [
        "batch_size = 64\n",
        "learning_rate = 0.01\n",
        "num_epochs = 10"
      ],
      "metadata": {
        "id": "2beiOzDwaloQ"
      },
      "execution_count": 3,
      "outputs": []
    },
    {
      "cell_type": "markdown",
      "source": [
        "# データセット"
      ],
      "metadata": {
        "id": "qQOXYP9hamEX"
      }
    },
    {
      "cell_type": "code",
      "source": [
        "train_dataset = datasets.MNIST(\n",
        "    root = './data',\n",
        "    train = True,\n",
        "    transform = transforms.ToTensor(),\n",
        "    download = True\n",
        ")\n",
        "train_loader = DataLoader(\n",
        "    train_dataset,\n",
        "    batch_size = batch_size,\n",
        "    shuffle = True\n",
        ")\n",
        "\n",
        "test_dataset = datasets.MNIST(\n",
        "    root = './data',\n",
        "    train = False,\n",
        "    transform = transforms.ToTensor()\n",
        ")\n",
        "test_loader = DataLoader(\n",
        "    test_dataset,\n",
        "    batch_size = batch_size,\n",
        "    shuffle = False\n",
        ")"
      ],
      "metadata": {
        "colab": {
          "base_uri": "https://localhost:8080/"
        },
        "id": "vImqtVwNaqUP",
        "outputId": "f8bf8db5-af2e-4b52-d8ab-f2dbf5a0d3f5"
      },
      "execution_count": 4,
      "outputs": [
        {
          "output_type": "stream",
          "name": "stderr",
          "text": [
            "100%|██████████| 9.91M/9.91M [00:00<00:00, 55.3MB/s]\n",
            "100%|██████████| 28.9k/28.9k [00:00<00:00, 1.59MB/s]\n",
            "100%|██████████| 1.65M/1.65M [00:00<00:00, 13.9MB/s]\n",
            "100%|██████████| 4.54k/4.54k [00:00<00:00, 7.70MB/s]\n"
          ]
        }
      ]
    },
    {
      "cell_type": "markdown",
      "source": [
        "# モデル定義"
      ],
      "metadata": {
        "id": "PUR_5d8VDCfe"
      }
    },
    {
      "cell_type": "code",
      "source": [
        "class Model(nn.Module): # nn.Moduleを継承したクラスを作成\n",
        "    # モデルの構造を定義\n",
        "    def __init__(self):\n",
        "        super().__init__()\n",
        "        self.model = nn.Sequential(\n",
        "            nn.Linear(28*28, 512),\n",
        "            nn.ReLU(),\n",
        "            nn.Linear(512, 256),\n",
        "            nn.ReLU(),\n",
        "            nn.Linear(256, 10),\n",
        "            nn.LogSoftmax(dim=1)\n",
        "        )\n",
        "\n",
        "    # 順方向の計算．入力データをどのようにモデルに通していくかを定義\n",
        "    def forward(self, x: torch.Tensor):\n",
        "        x = x.view(-1, 28*28) # 28x28の2次元データを1次元に変換する\n",
        "        x = self.model(x) # __init__で定義したモデルに通して計算\n",
        "        return x\n",
        "\n",
        "model = Model()\n",
        "model.to(device)"
      ],
      "metadata": {
        "colab": {
          "base_uri": "https://localhost:8080/"
        },
        "id": "EUzoLxjIavL0",
        "outputId": "7615e1ed-c901-4e56-cbf8-2065f4bb84ad"
      },
      "execution_count": 5,
      "outputs": [
        {
          "output_type": "execute_result",
          "data": {
            "text/plain": [
              "Model(\n",
              "  (model): Sequential(\n",
              "    (0): Linear(in_features=784, out_features=512, bias=True)\n",
              "    (1): ReLU()\n",
              "    (2): Linear(in_features=512, out_features=256, bias=True)\n",
              "    (3): ReLU()\n",
              "    (4): Linear(in_features=256, out_features=10, bias=True)\n",
              "    (5): LogSoftmax(dim=1)\n",
              "  )\n",
              ")"
            ]
          },
          "metadata": {},
          "execution_count": 5
        }
      ]
    },
    {
      "cell_type": "markdown",
      "source": [
        "# 損失関数＆最適化アルゴリズム"
      ],
      "metadata": {
        "id": "ykoTtGJKaxLk"
      }
    },
    {
      "cell_type": "code",
      "source": [
        "criterion = nn.NLLLoss() # Negative Log Likelihood\n",
        "optimizer = torch.optim.SGD(model.parameters(), lr=learning_rate)"
      ],
      "metadata": {
        "id": "08FZrbu7a1JM"
      },
      "execution_count": 6,
      "outputs": []
    },
    {
      "cell_type": "markdown",
      "source": [
        "# 学習用関数"
      ],
      "metadata": {
        "id": "dA3kg6Lga1f8"
      }
    },
    {
      "cell_type": "code",
      "source": [
        "def train_model(model, train_loader, optimizer, epoch, criterion):\n",
        "    model.train()\n",
        "    total_loss = 0.0\n",
        "    correct = 0\n",
        "    total = 0\n",
        "\n",
        "    for images, labels in tqdm(train_loader):\n",
        "        images = images.to(device)\n",
        "        labels = labels.to(device)\n",
        "\n",
        "        optimizer.zero_grad()\n",
        "        outputs = model(images)\n",
        "        loss = criterion(outputs, labels)\n",
        "        loss.backward()\n",
        "        optimizer.step()\n",
        "\n",
        "        total_loss += loss.item()\n",
        "        pred = outputs.argmax(dim=1, keepdim=True)\n",
        "        correct += pred.eq(labels.view_as(pred)).sum().item()\n",
        "        total += images.size(0)\n",
        "\n",
        "    avg_loss = total_loss / len(train_loader)\n",
        "    accuracy = 100. * correct / total\n",
        "\n",
        "    print(f'Epoch {epoch+1} / {num_epochs}')\n",
        "    print(f'訓練セット: 損失: {avg_loss:<8.4f}, 精度: {accuracy:.2f}%')\n",
        "\n",
        "    return avg_loss, accuracy"
      ],
      "metadata": {
        "id": "BSkDM6yha5Kg"
      },
      "execution_count": 7,
      "outputs": []
    },
    {
      "cell_type": "markdown",
      "source": [
        "# テスト用関数"
      ],
      "metadata": {
        "id": "SmVwYU-xa5g8"
      }
    },
    {
      "cell_type": "code",
      "source": [
        "def test_model(model, test_loader, criterion):\n",
        "    model.eval() # モデルを評価モード切り替え\n",
        "    test_loss = 0.0\n",
        "    correct = 0\n",
        "\n",
        "    with torch.no_grad():\n",
        "        for data, target in test_loader:\n",
        "            data = data.to(device)\n",
        "            target = target.to(device)\n",
        "\n",
        "            outputs = model(data)\n",
        "            test_loss += criterion(outputs, target).item()\n",
        "            predicted = outputs.argmax(dim=1, keepdim=True)\n",
        "            correct += (predicted == target).sum().item()\n",
        "\n",
        "    test_loss /= len(test_loader)\n",
        "    accuracy = 100. * correct / len(test_loader.dataset)\n",
        "\n",
        "    print(f'テストセット: 損失: {test_loss:.4f}, 精度: {correct} / {len(test_loader.dataset)} ({accuracy:.2f}%)\\n')\n",
        "\n",
        "    return test_loss, accuracy"
      ],
      "metadata": {
        "id": "FW2LWBUwa73N"
      },
      "execution_count": 8,
      "outputs": []
    },
    {
      "cell_type": "markdown",
      "source": [
        "# 学習と評価"
      ],
      "metadata": {
        "id": "2Th1Q86Fa90n"
      }
    },
    {
      "cell_type": "code",
      "source": [
        "train_losses = list()\n",
        "train_accuracy = list()\n",
        "test_losses = list()\n",
        "test_accuracy = list()\n",
        "\n",
        "for epoch in range(num_epochs):\n",
        "    avg_loss, accuracy = train_model(model, train_loader, optimizer, epoch, criterion)\n",
        "    train_losses.append(avg_loss)\n",
        "    train_accuracy.append(accuracy)\n",
        "\n",
        "    test_loss, accuracy = test_model(model, test_loader, criterion)\n",
        "    test_losses.append(test_loss)\n",
        "    test_accuracy.append(accuracy)"
      ],
      "metadata": {
        "colab": {
          "base_uri": "https://localhost:8080/"
        },
        "id": "ARrtxMPXbA08",
        "outputId": "308561b8-812d-4cd8-bf7c-d6f793731d5c"
      },
      "execution_count": 9,
      "outputs": [
        {
          "output_type": "stream",
          "name": "stderr",
          "text": [
            "100%|██████████| 938/938 [00:12<00:00, 72.64it/s]\n"
          ]
        },
        {
          "output_type": "stream",
          "name": "stdout",
          "text": [
            "Epoch 1 / 10\n",
            "訓練セット: 損失: 1.6427  , 精度: 63.62%\n",
            "テストセット: 損失: 0.7120, 精度: 69436 / 10000 (694.36%)\n",
            "\n"
          ]
        },
        {
          "output_type": "stream",
          "name": "stderr",
          "text": [
            "100%|██████████| 938/938 [00:12<00:00, 76.73it/s]\n"
          ]
        },
        {
          "output_type": "stream",
          "name": "stdout",
          "text": [
            "Epoch 2 / 10\n",
            "訓練セット: 損失: 0.5313  , 精度: 85.87%\n",
            "テストセット: 損失: 0.4062, 精度: 69785 / 10000 (697.85%)\n",
            "\n"
          ]
        },
        {
          "output_type": "stream",
          "name": "stderr",
          "text": [
            "100%|██████████| 938/938 [00:12<00:00, 74.41it/s]\n"
          ]
        },
        {
          "output_type": "stream",
          "name": "stdout",
          "text": [
            "Epoch 3 / 10\n",
            "訓練セット: 損失: 0.3846  , 精度: 89.23%\n",
            "テストセット: 損失: 0.3361, 精度: 69932 / 10000 (699.32%)\n",
            "\n"
          ]
        },
        {
          "output_type": "stream",
          "name": "stderr",
          "text": [
            "100%|██████████| 938/938 [00:15<00:00, 60.42it/s]\n"
          ]
        },
        {
          "output_type": "stream",
          "name": "stdout",
          "text": [
            "Epoch 4 / 10\n",
            "訓練セット: 損失: 0.3341  , 精度: 90.50%\n",
            "テストセット: 損失: 0.3044, 精度: 70007 / 10000 (700.07%)\n",
            "\n"
          ]
        },
        {
          "output_type": "stream",
          "name": "stderr",
          "text": [
            "100%|██████████| 938/938 [00:12<00:00, 74.88it/s]\n"
          ]
        },
        {
          "output_type": "stream",
          "name": "stdout",
          "text": [
            "Epoch 5 / 10\n",
            "訓練セット: 損失: 0.3038  , 精度: 91.32%\n",
            "テストセット: 損失: 0.2777, 精度: 70138 / 10000 (701.38%)\n",
            "\n"
          ]
        },
        {
          "output_type": "stream",
          "name": "stderr",
          "text": [
            "100%|██████████| 938/938 [00:12<00:00, 75.48it/s]\n"
          ]
        },
        {
          "output_type": "stream",
          "name": "stdout",
          "text": [
            "Epoch 6 / 10\n",
            "訓練セット: 損失: 0.2810  , 精度: 91.88%\n",
            "テストセット: 損失: 0.2605, 精度: 70210 / 10000 (702.10%)\n",
            "\n"
          ]
        },
        {
          "output_type": "stream",
          "name": "stderr",
          "text": [
            "100%|██████████| 938/938 [00:13<00:00, 71.08it/s]\n"
          ]
        },
        {
          "output_type": "stream",
          "name": "stdout",
          "text": [
            "Epoch 7 / 10\n",
            "訓練セット: 損失: 0.2617  , 精度: 92.48%\n",
            "テストセット: 損失: 0.2459, 精度: 70193 / 10000 (701.93%)\n",
            "\n"
          ]
        },
        {
          "output_type": "stream",
          "name": "stderr",
          "text": [
            "100%|██████████| 938/938 [00:12<00:00, 76.10it/s]\n"
          ]
        },
        {
          "output_type": "stream",
          "name": "stdout",
          "text": [
            "Epoch 8 / 10\n",
            "訓練セット: 損失: 0.2448  , 精度: 92.95%\n",
            "テストセット: 損失: 0.2320, 精度: 70233 / 10000 (702.33%)\n",
            "\n"
          ]
        },
        {
          "output_type": "stream",
          "name": "stderr",
          "text": [
            "100%|██████████| 938/938 [00:12<00:00, 75.15it/s]\n"
          ]
        },
        {
          "output_type": "stream",
          "name": "stdout",
          "text": [
            "Epoch 9 / 10\n",
            "訓練セット: 損失: 0.2298  , 精度: 93.43%\n",
            "テストセット: 損失: 0.2157, 精度: 70291 / 10000 (702.91%)\n",
            "\n"
          ]
        },
        {
          "output_type": "stream",
          "name": "stderr",
          "text": [
            "100%|██████████| 938/938 [00:12<00:00, 75.82it/s]\n"
          ]
        },
        {
          "output_type": "stream",
          "name": "stdout",
          "text": [
            "Epoch 10 / 10\n",
            "訓練セット: 損失: 0.2160  , 精度: 93.87%\n",
            "テストセット: 損失: 0.2068, 精度: 70347 / 10000 (703.47%)\n",
            "\n"
          ]
        }
      ]
    },
    {
      "cell_type": "markdown",
      "source": [
        "# グラフ化"
      ],
      "metadata": {
        "id": "eFN8BlOPbDo7"
      }
    },
    {
      "cell_type": "code",
      "source": [
        "plt.figure(figsize=(12, 8))\n",
        "\n",
        "# ---- 損失（訓練）----\n",
        "plt.subplot(2, 2, 1)\n",
        "plt.plot(range(1, num_epochs + 1), train_losses, label='SGD', color='r')\n",
        "plt.xlabel('Epoch')\n",
        "plt.ylabel('Loss')\n",
        "plt.title('Train Loss')\n",
        "plt.legend()\n",
        "plt.grid(True)\n",
        "\n",
        "# ---- 損失（テスト）----\n",
        "plt.subplot(2, 2, 2)\n",
        "plt.plot(range(1, num_epochs + 1), test_losses, label='SGD', color='r')\n",
        "plt.xlabel('Epoch')\n",
        "plt.ylabel('Loss')\n",
        "plt.title('Test Loss')\n",
        "plt.legend()\n",
        "plt.grid(True)\n",
        "\n",
        "# ---- 精度（訓練）----\n",
        "plt.subplot(2, 2, 3)\n",
        "plt.plot(range(1, num_epochs + 1), train_accuracy, label='SGD', color='orange')\n",
        "plt.xlabel('Epoch')\n",
        "plt.ylabel('Accuracy (%)')\n",
        "plt.title('Train Accuracy')\n",
        "plt.legend()\n",
        "plt.grid(True)\n",
        "\n",
        "# ---- 精度（テスト）----\n",
        "plt.subplot(2, 2, 4)\n",
        "plt.plot(range(1, num_epochs + 1), test_accuracy, label='SGD', color='orange')\n",
        "plt.xlabel('Epoch')\n",
        "plt.ylabel('Accuracy (%)')\n",
        "plt.title('Test Accuracy')\n",
        "plt.legend()\n",
        "plt.grid(True)\n",
        "\n",
        "plt.tight_layout()\n",
        "plt.show()"
      ],
      "metadata": {
        "colab": {
          "base_uri": "https://localhost:8080/",
          "height": 586
        },
        "id": "act_ENxFbG38",
        "outputId": "4e466b2f-f72a-40a4-ec18-9d35c29ac58a"
      },
      "execution_count": 10,
      "outputs": [
        {
          "output_type": "display_data",
          "data": {
            "text/plain": [
              "<Figure size 1200x800 with 4 Axes>"
            ],
            "image/png": "[encoded data removed]"
          },
          "metadata": {}
        }
      ]
    }
  ]
}